{
 "cells": [
  {
   "cell_type": "code",
   "execution_count": 8,
   "id": "6e74e159-bc18-4ff3-a1af-4498742125c4",
   "metadata": {},
   "outputs": [
    {
     "name": "stdin",
     "output_type": "stream",
     "text": [
      " саша и маша маша и даша\n",
      " маша\n"
     ]
    },
    {
     "name": "stdout",
     "output_type": "stream",
     "text": [
      "маша in [7, 12]\n"
     ]
    }
   ],
   "source": [
    "text = input()\n",
    "word = input()\n",
    "position = []\n",
    "word_len = len(word)\n",
    "for i in range(len(text) - word_len + 1):\n",
    "    if text[i:i + word_len] == word:\n",
    "        position.append(i)\n",
    "        \n",
    "if position:\n",
    "    print(f\"{word} in {position}\")\n"
   ]
  },
  {
   "cell_type": "code",
   "execution_count": 12,
   "id": "683e4354-b6ee-439c-8ee3-88b33469e1ea",
   "metadata": {},
   "outputs": [
    {
     "name": "stdout",
     "output_type": "stream",
     "text": [
      "[['*', 2, 3, '*'], [4, '*', '*', 5], [7, '*', '*', 6], ['*', 1, 1, '*']]\n"
     ]
    }
   ],
   "source": [
    "matrix = [[1, 2, 3, 4], [4, 5, 6, 5], [7, 8, 9, 6], [1, 1, 1, 1]]\n",
    "for a in range(len(matrix)):\n",
    "    for b in range(len(matrix)):\n",
    "        if (a == b) or (a + b == len(matrix)-1):\n",
    "            matrix[a][b] = '*'\n",
    "print (matrix)  "
   ]
  },
  {
   "cell_type": "code",
   "execution_count": 11,
   "id": "8152e737-1f03-47df-b3a3-bfc168efb638",
   "metadata": {},
   "outputs": [
    {
     "name": "stdin",
     "output_type": "stream",
     "text": [
      " 3\n"
     ]
    },
    {
     "data": {
      "text/plain": [
       "[['*', 22, '*'], [76, '*', 9], ['*', 87, '*']]"
      ]
     },
     "execution_count": 11,
     "metadata": {},
     "output_type": "execute_result"
    }
   ],
   "source": [
    "import random\n",
    "\n",
    "len_list: int = int(input())\n",
    "rand_matrix = [random.randint(1, 100) for _ in range(len_list)]\n",
    "\n",
    "matrix: list = rand_matrix\n",
    "\n",
    "for i in range(len(matrix)):\n",
    "    matrix[i] = [random.randint(1, 100) for _ in range(len_list)]\n",
    "\n",
    "for a in range(len(matrix)):\n",
    "    for b in range(len(matrix)):\n",
    "        if (a == b) or (a + b == len(matrix)-1):\n",
    "           matrix[a][b] = '*'\n",
    "matrix"
   ]
  },
  {
   "cell_type": "code",
   "execution_count": 15,
   "id": "73edac54-a764-47c3-a11d-e63350974bed",
   "metadata": {},
   "outputs": [
    {
     "data": {
      "text/plain": [
       "['яблоко_', 'банан__', 'груша__', 'ананас_', 'киви___', 'авокадо']"
      ]
     },
     "execution_count": 15,
     "metadata": {},
     "output_type": "execute_result"
    }
   ],
   "source": [
    "#task 5\n",
    "def all_eq(lst): \n",
    "    max_word = max(lst, key=len)\n",
    "    for i in range(len(lst)):\n",
    "        lst[i] = lst[i].ljust(len(max_word), \"_\")\n",
    "    return lst\n",
    "\n",
    "lst = [\"яблоко\", \"банан\", \"груша\", \"ананас\", \"киви\", \"авокадо\"]\n",
    "lst = all_eq(lst)\n",
    "lst"
   ]
  },
  {
   "cell_type": "code",
   "execution_count": 18,
   "id": "b5271dd6-24d6-4520-a7e9-ec0ccc8fc60b",
   "metadata": {},
   "outputs": [
    {
     "data": {
      "text/plain": [
       "8.333333333333334"
      ]
     },
     "execution_count": 18,
     "metadata": {},
     "output_type": "execute_result"
    }
   ],
   "source": [
    "#task 4\n",
    "import random\n",
    "\n",
    "def useless(s):\n",
    "    val = max(s)/len(s)\n",
    "    return val\n",
    "\n",
    "length = 12\n",
    "s = [random.randint(1, 100) for _ in range(length)]\n",
    "answer = useless(s)\n",
    "answer"
   ]
  },
  {
   "cell_type": "code",
   "execution_count": 19,
   "id": "924f7f00-951d-4a89-a3a4-625d5031fc2e",
   "metadata": {},
   "outputs": [
    {
     "data": {
      "text/plain": [
       "[3, 1, 2, 0]"
      ]
     },
     "execution_count": 19,
     "metadata": {},
     "output_type": "execute_result"
    }
   ],
   "source": [
    "#task 3\n",
    "def change(lst):\n",
    "    lst[0], lst[-1] = lst[-1], lst[0]\n",
    "\n",
    "lst = [0, 1, 2, 3]\n",
    "change(lst)\n",
    "lst"
   ]
  },
  {
   "cell_type": "code",
   "execution_count": 21,
   "id": "aee126d2-a1f9-4f8a-a860-4ba45d506afc",
   "metadata": {},
   "outputs": [
    {
     "data": {
      "text/plain": [
       "[5, 4, 3, 2, 1, 0]"
      ]
     },
     "execution_count": 21,
     "metadata": {},
     "output_type": "execute_result"
    }
   ],
   "source": [
    "#task 2\n",
    "lst = [0, 1, 2, 3, 4, 5]\n",
    "lst.reverse()\n",
    "lst"
   ]
  },
  {
   "cell_type": "code",
   "execution_count": 5,
   "id": "d3dbb9ae-b80d-43f9-b697-3de1bf18c7fc",
   "metadata": {},
   "outputs": [
    {
     "name": "stdout",
     "output_type": "stream",
     "text": [
      "1x^2 + -12x + 20 = 0\n",
      "Корни: (10.0, 2.0)\n",
      "1x^2 + 17x + 72 = 0\n",
      "Корни: (-8.0, -9.0)\n",
      "1x^2 + -7x + -44 = 0\n",
      "Корни: (11.0, -4.0)\n",
      "1x^2 + 9x + 8 = 0\n",
      "Корни: (-1.0, -8.0)\n",
      "1x^2 + -2x + -63 = 0\n",
      "Корни: (9.0, -7.0)\n",
      "(x^2 - 8)^2 + 4(x^2 - 8) - 5 = 0\n",
      "Корни u: (1.0, -5.0)\n",
      "u = 1.0, x: (2.6457513110645907, -2.6457513110645907)\n",
      "u = -5.0, x: (3.605551275463989, -3.605551275463989)\n"
     ]
    }
   ],
   "source": [
    "#task 1\n",
    "import numpy as np\n",
    "\n",
    "def quadratic_equation(a, b, c):\n",
    "    discriminant = b**2 - 4*a*c\n",
    "    if discriminant > 0:\n",
    "        root1 = (-b + np.sqrt(discriminant)) / (2 * a)\n",
    "        root2 = (-b - np.sqrt(discriminant)) / (2 * a)\n",
    "        return root1, root2\n",
    "    elif discriminant == 0:\n",
    "        root = -b / (2 * a)\n",
    "        return root\n",
    "\n",
    "equation = [(1, -12, 20), (1, 17, 72), (1, -7, -44), (1, 9, 8), (1, -2, -63)]\n",
    "\n",
    "for a, b, c in equation:\n",
    "    roots = quadratic_equation(a, b, c)\n",
    "    print(f\"{a}x^2 + {b}x + {c} = 0\")\n",
    "    print(f\"Корни: {roots}\")\n",
    "\n",
    "print(f\"(x^2 - 8)^2 + 4(x^2 - 8) - 5 = 0\")\n",
    "u_roots = roots = quadratic_equation(1, 4, -5) # x^2 - 8 = u\n",
    "print(f\"Корни u: {u_roots}\")\n",
    "\n",
    "for u in u_roots:\n",
    "    x_roots = quadratic_equation(1, 0, -8 + u)\n",
    "    print(f\"u = {u}, x: {x_roots}\")"
   ]
  },
  {
   "cell_type": "code",
   "execution_count": null,
   "id": "ac5366fc-c984-4bfc-98e5-111228e70297",
   "metadata": {},
   "outputs": [],
   "source": []
  }
 ],
 "metadata": {
  "kernelspec": {
   "display_name": "Python 3 (ipykernel)",
   "language": "python",
   "name": "python3"
  },
  "language_info": {
   "codemirror_mode": {
    "name": "ipython",
    "version": 3
   },
   "file_extension": ".py",
   "mimetype": "text/x-python",
   "name": "python",
   "nbconvert_exporter": "python",
   "pygments_lexer": "ipython3",
   "version": "3.12.7"
  }
 },
 "nbformat": 4,
 "nbformat_minor": 5
}
