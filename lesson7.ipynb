{
 "cells": [
  {
   "cell_type": "code",
   "execution_count": 4,
   "id": "2dbc5635-7477-4c76-b295-077fd3e8f071",
   "metadata": {},
   "outputs": [],
   "source": [
    "class Wallet:\n",
    "    def __init__(self, name, cashback):\n",
    "        self._balance = 0\n",
    "        self.name = name\n",
    "        self.cashback = cashback\n",
    "        \n",
    "    def add(self, money):\n",
    "        self._balance += money\n",
    "\n",
    "    def cashback_add(self):\n",
    "        self._balance += self.cashback * self.cashback\n",
    "\n",
    "    @property\n",
    "    def balance(self):\n",
    "        return self._balance"
   ]
  },
  {
   "cell_type": "code",
   "execution_count": 6,
   "id": "2493752e-93eb-47b9-8995-f6fd9d2eedd5",
   "metadata": {},
   "outputs": [
    {
     "name": "stdout",
     "output_type": "stream",
     "text": [
      "0\n",
      "1000\n"
     ]
    }
   ],
   "source": [
    "card = Wallet(\"Max\", 5)\n",
    "print(card.balance)\n",
    "card.add(1000)\n",
    "print(card.balance)"
   ]
  },
  {
   "cell_type": "code",
   "execution_count": 7,
   "id": "2ed7b75e-e372-4f6b-8d06-be26ef59edf0",
   "metadata": {},
   "outputs": [
    {
     "name": "stdout",
     "output_type": "stream",
     "text": [
      "1025\n"
     ]
    }
   ],
   "source": [
    "card.cashback_add()\n",
    "print(card.balance)"
   ]
  },
  {
   "cell_type": "code",
   "execution_count": 10,
   "id": "583e01c4-a826-43ae-8862-4446d35522fa",
   "metadata": {},
   "outputs": [
    {
     "name": "stdout",
     "output_type": "stream",
     "text": [
      "0\n"
     ]
    },
    {
     "data": {
      "text/plain": [
       "294.11764705882354"
      ]
     },
     "execution_count": 10,
     "metadata": {},
     "output_type": "execute_result"
    }
   ],
   "source": [
    "class Card(Wallet):\n",
    "\n",
    "    def dollar(self):\n",
    "        return super().balance / 3.4\n",
    "\n",
    "card1 = Card(\"Max\", 5)\n",
    "print(card1.balance)\n",
    "card1.add(1000)\n",
    "card1.dollar()"
   ]
  },
  {
   "cell_type": "code",
   "execution_count": 59,
   "id": "d772fc12-9404-4baa-9441-127705b0f88c",
   "metadata": {},
   "outputs": [
    {
     "name": "stdout",
     "output_type": "stream",
     "text": [
      "1,50\n",
      "7,8\n",
      "3,0\n",
      "0,75\n",
      "3,0\n"
     ]
    }
   ],
   "source": [
    "#Создать класс Money для работы с денежными суммами. Число должно\n",
    "#быть представлено двумя полями: для рублей и для копеек. Копейки при\n",
    "#выводе на экран должна быть отделена от целой части запятой.\n",
    "#Реализовать сложение, вычитание, деление сумм, деление суммы на\n",
    "#дробное число, умножение на дробное число и операции сравнения.\n",
    "\n",
    "class Money:\n",
    "    def __init__(self, rubles = 0, kopeks = 0):\n",
    "        self.rubles = rubles + kopeks // 100\n",
    "        self.kopeks = kopeks % 100\n",
    "\n",
    "   # @property\n",
    "   # def get_rubles(self):\n",
    "   #     return self._rubles\n",
    "\n",
    "   # @property\n",
    "   # def get_kopeks(self):\n",
    "   #     return self._kopeks\n",
    "        \n",
    "   # @_rubles.setter\n",
    "   # def set_rubles(self, rubles):\n",
    "   #     self._rubles = rubles + kopeks // 100\n",
    "   #     self._kopeks = kopeks % 100\n",
    "\n",
    "   # @_kopeks.setter\n",
    "   # def set_kopeks(self, kopeks):\n",
    "   #     self._kopeks = kopeks % 100\n",
    "   #     self._rubles += kopeks // 100\n",
    "\n",
    "    def display(self):\n",
    "        print(f\"{self.rubles},{self.kopeks}\")\n",
    "\n",
    "    def add(self, addend: Money) -> Money:\n",
    "        all_rubles = self.rubles + addend.rubles\n",
    "        all_kopeks = self.kopeks + addend.kopeks\n",
    "        \n",
    "        return Money(all_rubles, all_kopeks)\n",
    "\n",
    "    def subtract(self, subtrahend: Money) -> Money:\n",
    "        first = self.rubles * 100 + self.kopeks\n",
    "        second = other.rubles * 100 + other.kopeks\n",
    "        result = first - second\n",
    "        \n",
    "        return Money(result // 100, result % 100)\n",
    "            \n",
    "    def div_sum(self, num: int) -> Money:\n",
    "        if num == 0:\n",
    "            raise Exception(\"Division by zero\")\n",
    "        total_sum = self.rubles * 100 + self.kopeks\n",
    "        result = int(total_sum / num)\n",
    "        \n",
    "        return Money(result // 100, result % 100)\n",
    "\n",
    "    def divide(self, num: int|float)-> Money:\n",
    "        if num == 0:\n",
    "            raise Exception(\"Division by zero\")\n",
    "        total_kopeks = self.rubles * 100 + self.kopeks\n",
    "        \n",
    "        return Money(0, total_kopeks / num)\n",
    "\n",
    "    def multiply(self, multiplier: int|float)-> Money:\n",
    "        total_kopeks = (self.rubles * 100 + self.kopeks) * multiplier\n",
    "        \n",
    "        return Money(total_kopeks // 100, total_kopeks % 100)\n",
    "        \n",
    "\n",
    "sum1 = Money(1, 50)\n",
    "sum1.display()\n",
    "sum2 = Money(7, 8)\n",
    "sum2.display()\n",
    "sum3 = sum1.add(sum1)\n",
    "sum3.display()\n",
    "sum1_2 = sum1.div_sum(2)\n",
    "sum1_2.display()\n",
    "sum1_3 = sum1.multiply(2)\n",
    "sum1_3.display()"
   ]
  },
  {
   "cell_type": "code",
   "execution_count": 60,
   "id": "82d7e7d5-f8af-40f5-a4c1-47c055137924",
   "metadata": {},
   "outputs": [
    {
     "data": {
      "text/plain": [
       "[[6, 6], [6, 6]]"
      ]
     },
     "execution_count": 60,
     "metadata": {},
     "output_type": "execute_result"
    }
   ],
   "source": [
    "#Создать класс матрица и реализовать алгоритмы математических\n",
    "#операций над матрицами (сложение друг с другом, умножение на\n",
    "#скалярную величину).\n",
    "\n",
    "class Matrix:\n",
    "    colsCount = 0\n",
    "    rowsCount = 0\n",
    "    \n",
    "    def __init__(self, matrix: list[list[int]]):\n",
    "        self.rowsCount = len(matrix)\n",
    "        if self.rowsCount < 1:\n",
    "            raise Exception(\"Rows should be greater or equal 1\")\n",
    "\n",
    "        self.colsCount = len(matrix[0])\n",
    "        if self.colsCount < 1:\n",
    "            raise Exception(\"Cols should be greater or equal 1\")\n",
    "\n",
    "        for row in matrix:\n",
    "            if len(row) != self.colsCount:\n",
    "                raise Exception(\"Each row should have same amount of columns\")\n",
    "                \n",
    "        self.matrix = matrix\n",
    "\n",
    "    def sum(self, addend: Matrix) -> Matrix:\n",
    "        if self.colsCount != addend.colsCount or self.rowsCount != addend.rowsCount:\n",
    "            raise Exception(\"Invalid addend provided\")\n",
    "        for i in range(self.rowsCount):\n",
    "            for j in range(self.colsCount):\n",
    "                self.matrix[i][j] += addend.matrix[i][j]\n",
    "        \n",
    "        return self\n",
    "\n",
    "    def multiply(self, multiplier: int) -> Matrix:\n",
    "        for i in range(self.rowsCount):\n",
    "            for j in range(self.colsCount):\n",
    "                self.matrix[i][j] *= multiplier\n",
    "        \n",
    "        return self\n",
    "\n",
    "M1 = Matrix([\n",
    "    [1, 1],\n",
    "    [1, 1]\n",
    "])\n",
    "M2 = Matrix([\n",
    "    [1, 1],\n",
    "    [1, 1]\n",
    "])\n",
    "\n",
    "M1.sum(M2).sum(M2).sum(M1).matrix\n"
   ]
  },
  {
   "cell_type": "code",
   "execution_count": 61,
   "id": "b423960c-19dd-447e-943a-c37b893242ef",
   "metadata": {},
   "outputs": [
    {
     "data": {
      "text/plain": [
       "[[12, 12], [12, 12]]"
      ]
     },
     "execution_count": 61,
     "metadata": {},
     "output_type": "execute_result"
    }
   ],
   "source": [
    "M1.multiply(2).matrix"
   ]
  },
  {
   "cell_type": "code",
   "execution_count": null,
   "id": "8ffd4860-0cd6-4826-8855-8dec033d334d",
   "metadata": {},
   "outputs": [],
   "source": []
  }
 ],
 "metadata": {
  "kernelspec": {
   "display_name": "Python 3 (ipykernel)",
   "language": "python",
   "name": "python3"
  },
  "language_info": {
   "codemirror_mode": {
    "name": "ipython",
    "version": 3
   },
   "file_extension": ".py",
   "mimetype": "text/x-python",
   "name": "python",
   "nbconvert_exporter": "python",
   "pygments_lexer": "ipython3",
   "version": "3.12.7"
  }
 },
 "nbformat": 4,
 "nbformat_minor": 5
}
