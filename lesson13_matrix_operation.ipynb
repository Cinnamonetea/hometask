{
 "cells": [
  {
   "cell_type": "code",
   "execution_count": 2,
   "id": "f63738e2-baef-479f-9ba8-2bc4689d4987",
   "metadata": {},
   "outputs": [],
   "source": [
    "import numpy as np\n",
    "from typing import Union"
   ]
  },
  {
   "cell_type": "code",
   "execution_count": 8,
   "id": "43f238b0-0a0f-4f7d-88ec-9ecb21bd1fbf",
   "metadata": {},
   "outputs": [],
   "source": [
    "A = np.array([[1, 2, 3], [4, 5, 6], [7, 8, 9]])\n",
    "B = np.array([[0, 1, 2], [3, 4, 5], [6, 7, 8]])\n",
    "C = np.array([[3, 2], [1, 0], [1, 2]])"
   ]
  },
  {
   "cell_type": "code",
   "execution_count": 15,
   "id": "ea65d44f-33d0-4313-9d2e-c6a871ec3467",
   "metadata": {},
   "outputs": [
    {
     "name": "stdout",
     "output_type": "stream",
     "text": [
      "[[ 1  3  5]\n",
      " [ 7  9 11]\n",
      " [13 15 17]]\n"
     ]
    },
    {
     "ename": "Exception",
     "evalue": "Wrong shape",
     "output_type": "error",
     "traceback": [
      "\u001b[1;31m---------------------------------------------------------------------------\u001b[0m",
      "\u001b[1;31mException\u001b[0m                                 Traceback (most recent call last)",
      "Cell \u001b[1;32mIn[15], line 9\u001b[0m\n\u001b[0;32m      7\u001b[0m     \u001b[38;5;28;01mreturn\u001b[39;00m result\n\u001b[0;32m      8\u001b[0m \u001b[38;5;28mprint\u001b[39m(addition(A, B))\n\u001b[1;32m----> 9\u001b[0m \u001b[38;5;28mprint\u001b[39m(addition(A, C))\n",
      "Cell \u001b[1;32mIn[15], line 4\u001b[0m, in \u001b[0;36maddition\u001b[1;34m(A, B)\u001b[0m\n\u001b[0;32m      2\u001b[0m \u001b[38;5;28;01mdef\u001b[39;00m \u001b[38;5;21maddition\u001b[39m(A: \u001b[38;5;28mlist\u001b[39m[Union], B: \u001b[38;5;28mlist\u001b[39m[Union]) \u001b[38;5;241m-\u001b[39m\u001b[38;5;241m>\u001b[39m \u001b[38;5;28mlist\u001b[39m[Union]:\n\u001b[0;32m      3\u001b[0m     \u001b[38;5;28;01mif\u001b[39;00m A\u001b[38;5;241m.\u001b[39mshape \u001b[38;5;241m!=\u001b[39m B\u001b[38;5;241m.\u001b[39mshape:\n\u001b[1;32m----> 4\u001b[0m         \u001b[38;5;28;01mraise\u001b[39;00m \u001b[38;5;167;01mException\u001b[39;00m(\u001b[38;5;124m\"\u001b[39m\u001b[38;5;124mWrong shape\u001b[39m\u001b[38;5;124m\"\u001b[39m)\n\u001b[0;32m      6\u001b[0m     result \u001b[38;5;241m=\u001b[39m A \u001b[38;5;241m+\u001b[39m B\n\u001b[0;32m      7\u001b[0m     \u001b[38;5;28;01mreturn\u001b[39;00m result\n",
      "\u001b[1;31mException\u001b[0m: Wrong shape"
     ]
    }
   ],
   "source": [
    "# сложение\n",
    "def addition(A: list[Union], B: list[Union]) -> list[Union]:\n",
    "    if A.shape != B.shape:\n",
    "        raise Exception(\"Wrong shape\")\n",
    "        \n",
    "    result = A + B\n",
    "    return result\n",
    "print(addition(A, B))\n",
    "print(addition(A, C))"
   ]
  },
  {
   "cell_type": "code",
   "execution_count": 17,
   "id": "44a72662-c841-47df-882b-af7229eca795",
   "metadata": {},
   "outputs": [
    {
     "name": "stdout",
     "output_type": "stream",
     "text": [
      "[[1 1 1]\n",
      " [1 1 1]\n",
      " [1 1 1]]\n"
     ]
    },
    {
     "ename": "Exception",
     "evalue": "Wrong shape",
     "output_type": "error",
     "traceback": [
      "\u001b[1;31m---------------------------------------------------------------------------\u001b[0m",
      "\u001b[1;31mException\u001b[0m                                 Traceback (most recent call last)",
      "Cell \u001b[1;32mIn[17], line 8\u001b[0m\n\u001b[0;32m      6\u001b[0m     \u001b[38;5;28;01mreturn\u001b[39;00m result\n\u001b[0;32m      7\u001b[0m \u001b[38;5;28mprint\u001b[39m(subtraction(A, B))\n\u001b[1;32m----> 8\u001b[0m \u001b[38;5;28mprint\u001b[39m(subtraction(A, C))\n",
      "Cell \u001b[1;32mIn[17], line 3\u001b[0m, in \u001b[0;36msubtraction\u001b[1;34m(A, B)\u001b[0m\n\u001b[0;32m      1\u001b[0m \u001b[38;5;28;01mdef\u001b[39;00m \u001b[38;5;21msubtraction\u001b[39m(A: \u001b[38;5;28mlist\u001b[39m[Union], B: \u001b[38;5;28mlist\u001b[39m[Union]) \u001b[38;5;241m-\u001b[39m\u001b[38;5;241m>\u001b[39m \u001b[38;5;28mlist\u001b[39m[Union]:\n\u001b[0;32m      2\u001b[0m     \u001b[38;5;28;01mif\u001b[39;00m A\u001b[38;5;241m.\u001b[39mshape \u001b[38;5;241m!=\u001b[39m B\u001b[38;5;241m.\u001b[39mshape:\n\u001b[1;32m----> 3\u001b[0m         \u001b[38;5;28;01mraise\u001b[39;00m \u001b[38;5;167;01mException\u001b[39;00m(\u001b[38;5;124m\"\u001b[39m\u001b[38;5;124mWrong shape\u001b[39m\u001b[38;5;124m\"\u001b[39m)\n\u001b[0;32m      5\u001b[0m     result \u001b[38;5;241m=\u001b[39m A \u001b[38;5;241m-\u001b[39m B\n\u001b[0;32m      6\u001b[0m     \u001b[38;5;28;01mreturn\u001b[39;00m result\n",
      "\u001b[1;31mException\u001b[0m: Wrong shape"
     ]
    }
   ],
   "source": [
    "def subtraction(A: list[Union], B: list[Union]) -> list[Union]:\n",
    "    if A.shape != B.shape:\n",
    "        raise Exception(\"Wrong shape\")\n",
    "        \n",
    "    result = A - B\n",
    "    return result\n",
    "print(subtraction(A, B))\n",
    "print(subtraction(A, C))"
   ]
  },
  {
   "cell_type": "code",
   "execution_count": 21,
   "id": "c182d36f-d45f-42ff-b2e0-46ef72743cd3",
   "metadata": {},
   "outputs": [
    {
     "name": "stdout",
     "output_type": "stream",
     "text": [
      "[[ 24  30  36]\n",
      " [ 51  66  81]\n",
      " [ 78 102 126]]\n",
      "[[138 120]\n",
      " [300 264]\n",
      " [462 408]]\n"
     ]
    },
    {
     "ename": "Exception",
     "evalue": "Wrong shape",
     "output_type": "error",
     "traceback": [
      "\u001b[1;31m---------------------------------------------------------------------------\u001b[0m",
      "\u001b[1;31mException\u001b[0m                                 Traceback (most recent call last)",
      "Cell \u001b[1;32mIn[21], line 12\u001b[0m\n\u001b[0;32m     10\u001b[0m \u001b[38;5;28mprint\u001b[39m(multiplication(A, B, C))\n\u001b[0;32m     11\u001b[0m D \u001b[38;5;241m=\u001b[39m np\u001b[38;5;241m.\u001b[39marray([[\u001b[38;5;241m3\u001b[39m, \u001b[38;5;241m2\u001b[39m], [\u001b[38;5;241m1\u001b[39m, \u001b[38;5;241m0\u001b[39m], [\u001b[38;5;241m1\u001b[39m, \u001b[38;5;241m2\u001b[39m],[\u001b[38;5;241m0\u001b[39m, \u001b[38;5;241m0\u001b[39m]])\n\u001b[1;32m---> 12\u001b[0m \u001b[38;5;28mprint\u001b[39m(multiplication(A, D))\n",
      "Cell \u001b[1;32mIn[21], line 5\u001b[0m, in \u001b[0;36mmultiplication\u001b[1;34m(*args)\u001b[0m\n\u001b[0;32m      3\u001b[0m \u001b[38;5;28;01mfor\u001b[39;00m arr \u001b[38;5;129;01min\u001b[39;00m args[\u001b[38;5;241m1\u001b[39m:]:\n\u001b[0;32m      4\u001b[0m     \u001b[38;5;28;01mif\u001b[39;00m result\u001b[38;5;241m.\u001b[39mshape[\u001b[38;5;241m1\u001b[39m] \u001b[38;5;241m!=\u001b[39m arr\u001b[38;5;241m.\u001b[39mshape[\u001b[38;5;241m0\u001b[39m]:\n\u001b[1;32m----> 5\u001b[0m         \u001b[38;5;28;01mraise\u001b[39;00m \u001b[38;5;167;01mException\u001b[39;00m(\u001b[38;5;124m\"\u001b[39m\u001b[38;5;124mWrong shape\u001b[39m\u001b[38;5;124m\"\u001b[39m)\n\u001b[0;32m      6\u001b[0m     result \u001b[38;5;241m=\u001b[39m  np\u001b[38;5;241m.\u001b[39mdot(result, arr)\n\u001b[0;32m      7\u001b[0m \u001b[38;5;28;01mreturn\u001b[39;00m result\n",
      "\u001b[1;31mException\u001b[0m: Wrong shape"
     ]
    }
   ],
   "source": [
    "def multiplication(*args) -> list[Union]:\n",
    "    result = args[0]\n",
    "    for arr in args[1:]:\n",
    "        if result.shape[1] != arr.shape[0]:\n",
    "            raise Exception(\"Wrong shape\")\n",
    "        result =  np.dot(result, arr)\n",
    "    return result\n",
    "\n",
    "print(multiplication(A, B))\n",
    "print(multiplication(A, B, C))\n",
    "D = np.array([[3, 2], [1, 0], [1, 2],[0, 0]])\n",
    "print(multiplication(A, D))"
   ]
  },
  {
   "cell_type": "code",
   "execution_count": null,
   "id": "b2bd4947-7ef0-47fe-9d9d-2942039f6ed4",
   "metadata": {},
   "outputs": [],
   "source": []
  }
 ],
 "metadata": {
  "kernelspec": {
   "display_name": "Python 3 (ipykernel)",
   "language": "python",
   "name": "python3"
  },
  "language_info": {
   "codemirror_mode": {
    "name": "ipython",
    "version": 3
   },
   "file_extension": ".py",
   "mimetype": "text/x-python",
   "name": "python",
   "nbconvert_exporter": "python",
   "pygments_lexer": "ipython3",
   "version": "3.12.7"
  }
 },
 "nbformat": 4,
 "nbformat_minor": 5
}
