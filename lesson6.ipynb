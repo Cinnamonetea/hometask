{
 "cells": [
  {
   "cell_type": "code",
   "execution_count": 13,
   "id": "63ee8773-9ba4-4157-96f6-0ad5ee1b9ca7",
   "metadata": {},
   "outputs": [
    {
     "data": {
      "text/plain": [
       "[([0, 0, 3, 3, 7], 10)]"
      ]
     },
     "execution_count": 13,
     "metadata": {},
     "output_type": "execute_result"
    }
   ],
   "source": [
    "# lesson 6\n",
    "\n",
    "def sort_p(arr):\n",
    "    n = len(arr)\n",
    "    global count\n",
    "    count = 0\n",
    "    for i in range(n):\n",
    "        for j in range(n - 1 -i):\n",
    "            count += 1\n",
    "            if arr[j] > arr[j + 1]:\n",
    "                arr[j], arr[j + 1] = arr[j +1], arr[j]\n",
    "    return arr, count\n",
    "\n",
    "arr = [[0, 0, 3, 7, 3]]\n",
    "st = list(map(sort_p, arr))\n",
    "st"
   ]
  },
  {
   "cell_type": "code",
   "execution_count": 20,
   "id": "a58b0109-6a1a-4acc-b18a-0a0d3dc9bc76",
   "metadata": {},
   "outputs": [
    {
     "data": {
      "text/plain": [
       "16"
      ]
     },
     "execution_count": 20,
     "metadata": {},
     "output_type": "execute_result"
    }
   ],
   "source": [
    "from functools import reduce\n",
    "first = 3\n",
    "arr = [0, 0, 3, 7, 3]\n",
    "answer = reduce(lambda x, y: x + y, arr, first)\n",
    "answer"
   ]
  },
  {
   "cell_type": "code",
   "execution_count": 26,
   "id": "3bab4a3b-b414-4b21-af0c-267c6a064247",
   "metadata": {},
   "outputs": [
    {
     "data": {
      "text/plain": [
       "['Hello', 'world']"
      ]
     },
     "execution_count": 26,
     "metadata": {},
     "output_type": "execute_result"
    }
   ],
   "source": [
    "string = \"Hello world\"\n",
    "string.split()"
   ]
  },
  {
   "cell_type": "code",
   "execution_count": 34,
   "id": "4cabbe24-530d-426c-a9c3-cbd779f729f0",
   "metadata": {},
   "outputs": [
    {
     "data": {
      "text/plain": [
       "2"
      ]
     },
     "execution_count": 34,
     "metadata": {},
     "output_type": "execute_result"
    }
   ],
   "source": [
    "# Натан выпивает 0,5 литра воды за час езды. Вам дано время в часах, и нужно вернуть количество\n",
    "# литров, которое выпьет Натан, округленное до наименьшего значения\n",
    "\n",
    "def number_of_liters(h: int) -> int:\n",
    "    return int(h * 0.5)\n",
    "\n",
    "time: int = 5\n",
    "liter = number_of_liters(time)\n",
    "liter"
   ]
  },
  {
   "cell_type": "code",
   "execution_count": 46,
   "id": "ab94a719-6fb1-4951-ac61-3395a5a642eb",
   "metadata": {},
   "outputs": [
    {
     "data": {
      "text/plain": [
       "[5, 4, 3, 2, 1]"
      ]
     },
     "execution_count": 46,
     "metadata": {},
     "output_type": "execute_result"
    }
   ],
   "source": [
    "# Создайте функцию, которая возвращает список целых чисел от n до 1, где n>0\n",
    "\n",
    "def create_list(n: int) -> list:\n",
    "    if n <= 0:\n",
    "        return \"Error\"\n",
    "    lst = []\n",
    "    while n != 0 :\n",
    "        lst.append(n)\n",
    "        n -= 1\n",
    "    return lst\n",
    "\n",
    "create_list(5)"
   ]
  },
  {
   "cell_type": "code",
   "execution_count": 51,
   "id": "7f08a581-dc24-4f80-8bb0-9a240a9dfafa",
   "metadata": {},
   "outputs": [
    {
     "data": {
      "text/plain": [
       "14"
      ]
     },
     "execution_count": 51,
     "metadata": {},
     "output_type": "execute_result"
    }
   ],
   "source": [
    "#  Учитывая год, верните столетие, в котором он находится\n",
    "\n",
    "def century(year: int) -> int:\n",
    "    if year <= 0:\n",
    "        return \"Error\"\n",
    "    if year % 100 == 0:\n",
    "        return year // 100\n",
    "    else:\n",
    "        return year // 100 + 1\n",
    "\n",
    "century(1400)"
   ]
  },
  {
   "cell_type": "code",
   "execution_count": 58,
   "id": "424764d4-91ae-4bcf-bbae-6b4d1b4bc427",
   "metadata": {},
   "outputs": [
    {
     "data": {
      "text/plain": [
       "[7, 6, 5, 4, 3, 2, 1]"
      ]
     },
     "execution_count": 58,
     "metadata": {},
     "output_type": "execute_result"
    }
   ],
   "source": [
    "# Учитывая случайное неотрицательное число, необходимо вернуть цифры этого числа в массиве в обратном порядке\n",
    "\n",
    "def create_mass(num: int) -> list:\n",
    "    if num < 0:\n",
    "        return \"Error\"\n",
    "    lst = []\n",
    "    a = 1\n",
    "    while num // a != 0:\n",
    "        i = num % (a * 10)\n",
    "        lst.append(i // a)\n",
    "        a *= 10\n",
    "    return lst\n",
    "\n",
    "a = create_mass(1234567)\n",
    "a"
   ]
  },
  {
   "cell_type": "code",
   "execution_count": 71,
   "id": "701e16d0-2501-4222-aa1a-a8d673379f78",
   "metadata": {},
   "outputs": [
    {
     "data": {
      "text/plain": [
       "[[1, 10, 11, 20, 21],\n",
       " [2, 9, 12, 19, 22],\n",
       " [3, 8, 13, 18, 23],\n",
       " [4, 7, 14, 17, 24],\n",
       " [5, 6, 15, 16, 25]]"
      ]
     },
     "execution_count": 71,
     "metadata": {},
     "output_type": "execute_result"
    }
   ],
   "source": [
    "# Получить матрицы порядка n, элементами которых являются заданные\n",
    "# действительные числа 1, 2, ..., n*n, расположенные в ней по схемам на рисунке\n",
    "\n",
    "def init_matr(matr: list) -> list:\n",
    "    num: int = 1\n",
    "    n: int = len(matr)\n",
    "    for j in range(n):\n",
    "        if j % 2 == 0:\n",
    "            for i in range(n):\n",
    "                matr[i][j] = num\n",
    "                num += 1\n",
    "        else:\n",
    "             for i in range(n - 1, -1, -1):\n",
    "                matr[i][j] = num\n",
    "                num += 1\n",
    "    return matr\n",
    "\n",
    "matr = [[0, 0, 0, 0, 0], [0, 0, 0, 0, 0], [0, 0, 0, 0, 0], [0, 0, 0, 0, 0], [0, 0, 0, 0, 0]]\n",
    "init_matr(matr)"
   ]
  },
  {
   "cell_type": "code",
   "execution_count": 72,
   "id": "070a2e95-f2a5-4463-bf63-d3de66cea61e",
   "metadata": {},
   "outputs": [
    {
     "data": {
      "text/plain": [
       "[[1, 2, 3, 4, 5],\n",
       " [10, 9, 8, 7, 6],\n",
       " [11, 12, 13, 14, 15],\n",
       " [20, 19, 18, 17, 16],\n",
       " [21, 22, 23, 24, 25]]"
      ]
     },
     "execution_count": 72,
     "metadata": {},
     "output_type": "execute_result"
    }
   ],
   "source": [
    "def init_matr(matr: list) -> list:\n",
    "    num: int = 1\n",
    "    n: int = len(matr)\n",
    "    for j in range(n):\n",
    "        if j % 2 == 0:\n",
    "            for i in range(n):\n",
    "                matr[j][i] = num\n",
    "                num += 1\n",
    "        else:\n",
    "             for i in range(n - 1, -1, -1):\n",
    "                matr[j][i] = num\n",
    "                num += 1\n",
    "    return matr\n",
    "\n",
    "matr = [[0, 0, 0, 0, 0], [0, 0, 0, 0, 0], [0, 0, 0, 0, 0], [0, 0, 0, 0, 0], [0, 0, 0, 0, 0]]\n",
    "init_matr(matr)"
   ]
  },
  {
   "cell_type": "code",
   "execution_count": 16,
   "id": "43894aab-c0d0-4115-8e30-97db4ace503e",
   "metadata": {},
   "outputs": [
    {
     "data": {
      "text/plain": [
       "'фигура под угрозой'"
      ]
     },
     "execution_count": 16,
     "metadata": {},
     "output_type": "execute_result"
    }
   ],
   "source": [
    "# у вас есть стандартное поле 8*8, после введения координат (a, b)\n",
    "# нахождения вашей фигуры конь и фигуры соперника (с, d). Необходимо определить,\n",
    "# угрожаете ли вы сопернику, с учетом того, что у вас есть ход\n",
    "\n",
    "def chess(a: int, b: int, c: int, d: int) -> None:\n",
    "    if 1 <= a <= 8 and 1 <= b <= 8 and 1 <= c <= 8 and 1 <= d <= 8:\n",
    "        if (abs(c - a) == 1 and abs(d - b) == 2) or (abs(c - a) == 2 and abs(d - b) == 1):\n",
    "            return \"фигура под угрозой\"\n",
    "\n",
    "    xyita: list = [[2, 1], [2, -1], [-2, 1], [-2, -1], [1, 2], [-1, 2], [1, -2], [-1, -2]]\n",
    "    new: list = []\n",
    "    for x, y in xyita:\n",
    "        new_a: int = a + x\n",
    "        new_b: int = b + y\n",
    "        new.append([new_a, new_b])\n",
    "    for n_a, n_b in new:\n",
    "        if 1 <= n_a <= 8 and 1 <= n_b <= 8:\n",
    "            for x, y in xyita:\n",
    "               if (n_a + x == c) and (n_b + y == d):\n",
    "                   return \"фигура под угрозой\"\n",
    "    return \"фигура не под угрозой\"\n",
    "        \n",
    "#c, d = map(int, input(\"Введите (c, d)\").split()) # вражеская фигура\n",
    "#a, b = map(int, input(\"Введите  (a, b)\").split()) # ваша фигура\n",
    "chess(1, 1, 2, 3)\n"
   ]
  },
  {
   "cell_type": "code",
   "execution_count": null,
   "id": "42b49f83-cd9a-430b-8927-93b4b5121cde",
   "metadata": {},
   "outputs": [],
   "source": []
  },
  {
   "cell_type": "code",
   "execution_count": null,
   "id": "23c10885-4524-4fd7-b7f2-09ab24ef0c45",
   "metadata": {},
   "outputs": [],
   "source": []
  }
 ],
 "metadata": {
  "kernelspec": {
   "display_name": "Python 3 (ipykernel)",
   "language": "python",
   "name": "python3"
  },
  "language_info": {
   "codemirror_mode": {
    "name": "ipython",
    "version": 3
   },
   "file_extension": ".py",
   "mimetype": "text/x-python",
   "name": "python",
   "nbconvert_exporter": "python",
   "pygments_lexer": "ipython3",
   "version": "3.12.7"
  }
 },
 "nbformat": 4,
 "nbformat_minor": 5
}
