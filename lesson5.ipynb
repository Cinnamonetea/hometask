{
 "cells": [
  {
   "cell_type": "code",
   "execution_count": 2,
   "id": "67ae2468-3425-4569-bad9-6b4339602c5d",
   "metadata": {},
   "outputs": [],
   "source": [
    "# lesson 5\n",
    "\n",
    "def horizont(z, start_h, end_h, stop):\n",
    "    for x in range(start_h, end_h, step):\n",
    "        start_h = z\n",
    "        end_h = end_h - z // 2\n",
    "        if z % 2 = 0:\n",
    "            finish_point = z // 2\n",
    "            lst[z//2][x]: int = random.randint(1, 100)\n",
    "        else:\n",
    "            lst[(z - 1)//2][x]: int = random.randint(1, 100)\n",
    "        \n",
    "    return top = start_h, bottom = end_h\n",
    "\n",
    "def vert(start_v, end_v, stop):\n",
    "    for y in range(start_v, end_v, step):\n",
    "        if z % 2 = 0:\n",
    "            lst[y][(n - 1) - z // 2]: int = random.randint(1, 100)\n",
    "        else:\n",
    "            lst[(z - 1) // 2][x]: int = random.randint(1, 100)\n",
    "    return top = start_h, bottom = end_h\n",
    "\n",
    "\n",
    "def matrix(n):\n",
    "\n",
    "    lst: = [[0] * n for _ in range(n)]\n",
    "    left = 0\n",
    "    right = n -1\n",
    "    top = 0\n",
    "    bottom = n-1\n",
    "    for z in range(n):\n",
    "        if y % 2 == 0:\n",
    "            step  = 1\n",
    "        else:\n",
    "            step = -1\n",
    "        horizont(left, right, stop)\n",
    "        vert(top, bottom, step)  \n",
    "    "
   ]
  },
  {
   "cell_type": "code",
   "execution_count": 7,
   "id": "2036fa15-7845-48d0-b7c9-82f18b953712",
   "metadata": {},
   "outputs": [
    {
     "name": "stdout",
     "output_type": "stream",
     "text": [
      "[0, 1, 2, 3]\n",
      "[11, 12, 13, 4]\n",
      "[10, 15, 14, 5]\n",
      "[9, 8, 7, 6]\n"
     ]
    }
   ],
   "source": [
    "# заполнение квадратной матрицы\n",
    "def init_matr(p: int):\n",
    "    val = 0\n",
    "    for k in range((n + 1) // 2 ):\n",
    "        # top line\n",
    "        for j in range(k, p):\n",
    "            lst[k][j] = val\n",
    "            val += 1\n",
    "            \n",
    "        # right column\n",
    "        for i in range(k + 1, p):\n",
    "            lst[i][p - 1] = val\n",
    "            val += 1\n",
    "    \n",
    "        # bottom line\n",
    "        for j in range(p - 2, k - 1, -1):\n",
    "            lst[p - 1][j] = val\n",
    "            val += 1\n",
    "            \n",
    "        # left column\n",
    "        for i in range(p - 2, k, -1):\n",
    "            lst[i][k] = val\n",
    "            val += 1\n",
    "            \n",
    "        p -= 1 # decrease\n",
    "\n",
    "n:int = 4\n",
    "lst = [[0] * n for _ in range(n)]\n",
    "init_matr(n)\n",
    "\n",
    "for i in lst:\n",
    "    print(i)\n"
   ]
  },
  {
   "cell_type": "code",
   "execution_count": 28,
   "id": "2f734fb4-7f27-40d7-a67e-51677ec0d8b6",
   "metadata": {},
   "outputs": [
    {
     "data": {
      "text/plain": [
       "[0, 1, 2, 4, 4, 7, 9]"
      ]
     },
     "execution_count": 28,
     "metadata": {},
     "output_type": "execute_result"
    }
   ],
   "source": [
    "# сортировка\n",
    "\n",
    "import random\n",
    "\n",
    "def hoar_sort(mass):\n",
    "    if len(mass) <= 1:\n",
    "        return mass\n",
    "    else:\n",
    "        x = random.choice(mass)\n",
    "        left = []\n",
    "        right = []\n",
    "        middle = []\n",
    "        for val in mass:\n",
    "            if val < x:\n",
    "                left.append(val)\n",
    "            elif val > x:\n",
    "                right.append(val)\n",
    "            else:\n",
    "                middle.append(val)\n",
    "        return hoar_sort(left) + middle + hoar_sort(right)\n",
    "\n",
    "mass: list = [9, 4, 1, 4, 7, 0, 2]\n",
    "hoar_sort(mass)"
   ]
  },
  {
   "cell_type": "code",
   "execution_count": 6,
   "id": "effbf488-a8b8-4fa2-8ace-1c15de2f1114",
   "metadata": {},
   "outputs": [
    {
     "data": {
      "text/plain": [
       "'Мимо!'"
      ]
     },
     "execution_count": 6,
     "metadata": {},
     "output_type": "execute_result"
    }
   ],
   "source": [
    "# Напишите функцию, которая принимает 2 строки и определяет, имеется ли подстрока subst в строке st.\n",
    "\n",
    "def search_substr(subst: str, st: str) -> str:\n",
    "    subst_low: str = subst.lower()\n",
    "    st_low: str = st.lower()\n",
    "    if subst_low in st_low:\n",
    "        return \"Есть контакт!\"\n",
    "    else:\n",
    "        return \"Мимо!\"\n",
    "\n",
    "subst = \"smht\"\n",
    "st = \"Hello, world!\"\n",
    "search_substr(subst, st)"
   ]
  },
  {
   "cell_type": "code",
   "execution_count": 14,
   "id": "0ba32be8-a9d2-4bcc-a02f-c204b3dcfef8",
   "metadata": {},
   "outputs": [
    {
     "data": {
      "text/plain": [
       "[('l', 3), ('o', 2), ('H', 1)]"
      ]
     },
     "execution_count": 14,
     "metadata": {},
     "output_type": "execute_result"
    }
   ],
   "source": [
    "# Определить 3 наиболее часто встречаемых символа в строке не включая пробелы\n",
    "\n",
    "from collections import Counter\n",
    "\n",
    "def find_most_common(st: str) -> list:\n",
    "     if not st:\n",
    "        return []\n",
    "     clean_str = st.replace(\" \", \"\")\n",
    "     count_str = Counter(clean_str)\n",
    "     most_common_el = count_str.most_common(3)\n",
    "     return most_common_el\n",
    "\n",
    "string = \"Hello, world!\"\n",
    "find_most_common(string)\n"
   ]
  },
  {
   "cell_type": "code",
   "execution_count": 15,
   "id": "91e1cea7-4bdd-4383-9f8f-edfd6b35e2f4",
   "metadata": {},
   "outputs": [
    {
     "name": "stdin",
     "output_type": "stream",
     "text": [
      " 0 3 2 2 6 3 3 3 0 4\n"
     ]
    },
    {
     "data": {
      "text/plain": [
       "{'3': 4, '0': 2, '2': 2}"
      ]
     },
     "execution_count": 15,
     "metadata": {},
     "output_type": "execute_result"
    }
   ],
   "source": [
    "# создать словарь, который в качестве ключей будет принимать данные числа, в качестве значений – количество этих чисел\n",
    "\n",
    "from collections import Counter\n",
    "\n",
    "def count_it(sequence: str) -> dict:\n",
    "    lst: list = sequence.split()\n",
    "    count = Counter(lst)\n",
    "    top_3 = count.most_common(3)\n",
    "    return dict(top_3)\n",
    "\n",
    "string: str = input()\n",
    "count_it(string)"
   ]
  },
  {
   "cell_type": "code",
   "execution_count": 17,
   "id": "8646baee-f9b6-406a-9d56-287ded9eb19c",
   "metadata": {},
   "outputs": [
    {
     "data": {
      "text/plain": [
       "2.775368323057839"
      ]
     },
     "execution_count": 17,
     "metadata": {},
     "output_type": "execute_result"
    }
   ],
   "source": [
    "# Написать функцию, вычисляющее значение функции при х = 1.79\n",
    "\n",
    "import math\n",
    "\n",
    "def calculation(x: float):\n",
    "    return (math.cos(math.exp(x)) + math.log(1 + x) ** 2 + \n",
    "            math.sqrt(math.exp(math.cos(x)) + math.sin(math.pi * x) ** 2) +\n",
    "            math.sqrt(1 / x) + math.cos(x ** 2)) ** math.sin(x)\n",
    "\n",
    "x = 1.79\n",
    "calculation(x)"
   ]
  },
  {
   "cell_type": "code",
   "execution_count": 27,
   "id": "a24901f3-b23d-4455-96ba-7df995e0d6c3",
   "metadata": {},
   "outputs": [
    {
     "name": "stdin",
     "output_type": "stream",
     "text": [
      "Выберите фигуру: ферзь или конь конь\n",
      "Введите (x, y) 4 5\n",
      "Введите  (a, b) 2 4\n"
     ]
    },
    {
     "data": {
      "text/plain": [
       "'фигура под угрозой'"
      ]
     },
     "execution_count": 27,
     "metadata": {},
     "output_type": "execute_result"
    }
   ],
   "source": [
    "# шахматы: после введения координат (a, b) нахождения вашей фигуры \n",
    "# и фигуры соперника (с, d), необходимо получить ответ, угрожает ли вражеская фигура вам\n",
    "\n",
    "def chess(x: int, y: int, a: int, b: int, figure: str) -> str:\n",
    "    if figure == \"конь\":\n",
    "        if ((a, b) == (x - 1, y + 2)) or ((a, b) == (x + 1, y + 2)) or ((a, b) == (x - 1, y - 2)) or ((a, b) == (x + 1, y - 2)) or ((a, b) == (x - 2, y + 1)) or ((a, b) == (x - 2, y - 1)) or ((a, b) == (x + 2, y + 1)) or ((a, b) == (x + 2, y - 1)):\n",
    "            return \"фигура под угрозой\"\n",
    "        else:\n",
    "            return \"не угрожает\"\n",
    "    elif figure == \"ферзь\":\n",
    "        if (a == x) or (b == y) or (abs(x - a) == abs(y - b)):\n",
    "            return \"фигура под угрозой\"\n",
    "        else:\n",
    "            return \"не угрожает\"\n",
    "    else:\n",
    "        return \"выбери другую\"\n",
    "\n",
    "\n",
    "figure: str = input(\"Выберите фигуру: ферзь или конь\")\n",
    "x, y = map(int, input(\"Введите (x, y)\").split()) # вражеская фигура \n",
    "a, b = map(int, input(\"Введите  (a, b)\").split()) # ваша фигура\n",
    "chess(x, y, a, b, figure)"
   ]
  },
  {
   "cell_type": "code",
   "execution_count": null,
   "id": "e2145deb-cb09-4662-b453-88871beccdec",
   "metadata": {},
   "outputs": [],
   "source": []
  }
 ],
 "metadata": {
  "kernelspec": {
   "display_name": "Python 3 (ipykernel)",
   "language": "python",
   "name": "python3"
  },
  "language_info": {
   "codemirror_mode": {
    "name": "ipython",
    "version": 3
   },
   "file_extension": ".py",
   "mimetype": "text/x-python",
   "name": "python",
   "nbconvert_exporter": "python",
   "pygments_lexer": "ipython3",
   "version": "3.12.7"
  }
 },
 "nbformat": 4,
 "nbformat_minor": 5
}
