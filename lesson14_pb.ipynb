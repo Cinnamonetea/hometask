{
 "cells": [
  {
   "cell_type": "code",
   "execution_count": 1,
   "id": "c5bebf76-aab2-454c-b3f9-328229df4364",
   "metadata": {},
   "outputs": [],
   "source": [
    "import numpy as np\n",
    "from scipy import stats\n",
    "import matplotlib.pyplot as plt\n",
    "from scipy.special import perm, comb, factorial"
   ]
  },
  {
   "cell_type": "code",
   "execution_count": 6,
   "id": "ae097602-db9f-45a8-95af-c74a63d12356",
   "metadata": {},
   "outputs": [
    {
     "data": {
      "text/plain": [
       "24360"
      ]
     },
     "execution_count": 6,
     "metadata": {},
     "output_type": "execute_result"
    }
   ],
   "source": [
    "# Задача 1. В группе 30 студентов. Необходимо выбрать старосту, заместителя старосты и\n",
    "# профорга. Сколько существует способов это сделать?\n",
    "k = np.array(1)\n",
    "n = np.array(30)\n",
    "n1 = np.array(29)\n",
    "n2 = np.array(28)\n",
    "comb(n, k, exact=True, repetition=False) * comb(n1, k, exact=True, repetition=False) * comb(n2, k, exact=True, repetition=False)"
   ]
  },
  {
   "cell_type": "code",
   "execution_count": 8,
   "id": "0fbb467b-838f-4718-b2f4-d1fe3da48f53",
   "metadata": {},
   "outputs": [
    {
     "data": {
      "text/plain": [
       "1024"
      ]
     },
     "execution_count": 8,
     "metadata": {},
     "output_type": "execute_result"
    }
   ],
   "source": [
    "# Задача 2. Два почтальона должны разнести 10 писем по 10 адресам. Сколькими\n",
    "# способами они могут распределить работу?\n",
    "k = np.array(10)\n",
    "n = np.array(2)\n",
    "n**k"
   ]
  },
  {
   "cell_type": "code",
   "execution_count": 9,
   "id": "8e475e52-b85e-4512-9670-f46bba4a5c86",
   "metadata": {},
   "outputs": [
    {
     "data": {
      "text/plain": [
       "80"
      ]
     },
     "execution_count": 9,
     "metadata": {},
     "output_type": "execute_result"
    }
   ],
   "source": [
    "# Задача 3. В ящике 100 деталей, из них 30 – деталей 1-го сорта, 50 – 2-го, остальные – 3-\n",
    "# го. Сколько существует способов извлечения из ящика одной детали 1-го или 2-го сорта?\n",
    "k = np.array(1)\n",
    "n = np.array(30)\n",
    "n1 = np.array(50)\n",
    "comb(n, k, exact=True, repetition=False) + comb(n1, k, exact=True, repetition=False)"
   ]
  },
  {
   "cell_type": "code",
   "execution_count": 11,
   "id": "acba55ad-6afe-475f-a352-9fd7eca933bc",
   "metadata": {},
   "outputs": [
    {
     "data": {
      "text/plain": [
       "5040"
      ]
     },
     "execution_count": 11,
     "metadata": {},
     "output_type": "execute_result"
    }
   ],
   "source": [
    "# Задача 5. Порядок выступления 7 участников конкурса определяется жребием. Сколько\n",
    "# различных вариантов жеребьевки при этом возможно?\n",
    "n = 7\n",
    "factorial(n, exact=True)"
   ]
  },
  {
   "cell_type": "code",
   "execution_count": 12,
   "id": "d2888547-ab96-40e6-b5ca-3add9555ad30",
   "metadata": {},
   "outputs": [
    {
     "data": {
      "text/plain": [
       "100000"
      ]
     },
     "execution_count": 12,
     "metadata": {},
     "output_type": "execute_result"
    }
   ],
   "source": [
    "# Задача 6. В конкурсе по 5 номинациям участвуют 10 кинофильмов. Сколько существует\n",
    "# вариантов распределения призов, если по всем номинациям установлены различные\n",
    "# премии?\n",
    "k = np.array(5)\n",
    "n = np.array(10)\n",
    "n**k"
   ]
  },
  {
   "cell_type": "code",
   "execution_count": 14,
   "id": "74eab12b-24ae-42e2-a194-dbc777f30fd3",
   "metadata": {},
   "outputs": [
    {
     "data": {
      "text/plain": [
       "120"
      ]
     },
     "execution_count": 14,
     "metadata": {},
     "output_type": "execute_result"
    }
   ],
   "source": [
    "# Задача 7. В шахматном турнире участвуют 16 человек. Сколько партий должно быть\n",
    "# сыграно в турнире, если между любыми двумя участниками должна быть сыграна одна\n",
    "# партия?\n",
    "k = np.array(2)\n",
    "n = np.array(16)\n",
    "comb(n, k, exact=True, repetition=False)"
   ]
  },
  {
   "cell_type": "code",
   "execution_count": 15,
   "id": "2605e6c5-b1db-42f1-8a30-86270485588a",
   "metadata": {},
   "outputs": [
    {
     "data": {
      "text/plain": [
       "2002"
      ]
     },
     "execution_count": 15,
     "metadata": {},
     "output_type": "execute_result"
    }
   ],
   "source": [
    "# Задача 8. В условиях задачи 6 определить, сколько существует вариантов распределения\n",
    "# призов, если по всем номинациям установлены одинаковые призы?\n",
    "k = np.array(5)\n",
    "n = np.array(10)\n",
    "comb(n, k, exact=True, repetition=True)"
   ]
  },
  {
   "cell_type": "code",
   "execution_count": 16,
   "id": "b71e8fe1-e2db-4301-9637-d5834c51c901",
   "metadata": {},
   "outputs": [
    {
     "data": {
      "text/plain": [
       "10"
      ]
     },
     "execution_count": 16,
     "metadata": {},
     "output_type": "execute_result"
    }
   ],
   "source": [
    "# Задача 9. Садовник должен в течении трех дней посадить 6 деревьев. Сколькими\n",
    "# способами он может распределить по дням работу, если будет сажать не менее одного\n",
    "# дерева в день?\n",
    "k = np.array(2)\n",
    "n = np.array(5)\n",
    "comb(n, k, exact=True, repetition=False)"
   ]
  },
  {
   "cell_type": "code",
   "execution_count": 17,
   "id": "7e6e107c-95ce-437c-98e7-c734f26fe841",
   "metadata": {},
   "outputs": [
    {
     "data": {
      "text/plain": [
       "56"
      ]
     },
     "execution_count": 17,
     "metadata": {},
     "output_type": "execute_result"
    }
   ],
   "source": [
    "# Задача 10. Сколько существует четырехзначных чисел (возможно, начинающихся с нуля),\n",
    "# сумма цифр которых равна 5?\n",
    "k = np.array(3)\n",
    "n = np.array(6)\n",
    "comb(n, k, exact=True, repetition=True)"
   ]
  },
  {
   "cell_type": "code",
   "execution_count": 18,
   "id": "a1d3485e-98e2-4872-b2d7-4eac64f84af4",
   "metadata": {},
   "outputs": [
    {
     "data": {
      "text/plain": [
       "16360143800.0"
      ]
     },
     "execution_count": 18,
     "metadata": {},
     "output_type": "execute_result"
    }
   ],
   "source": [
    "# Задача 11. Сколькими способами можно разбить группу из 25 студентов на три подгруппы\n",
    "# А, В и С по 6, 9 и 10 человек соответственно?\n",
    "\n",
    "factorial(25, exact=True)/(factorial(6, exact=True) * factorial(9, exact=True) * factorial(10, exact=True))"
   ]
  },
  {
   "cell_type": "code",
   "execution_count": 19,
   "id": "0d44e8c3-e648-45b6-9db8-cf7548cafcc1",
   "metadata": {},
   "outputs": [
    {
     "data": {
      "text/plain": [
       "210.0"
      ]
     },
     "execution_count": 19,
     "metadata": {},
     "output_type": "execute_result"
    }
   ],
   "source": [
    "# Задача 12. Сколько существует семизначных чисел, состоящих из цифр 4, 5 и 6, в которых\n",
    "# цифра 4 повторяется 3 раза, а цифры 5 и 6 – по 2 раза?\n",
    "factorial(7, exact=True)/(factorial(3, exact=True) * factorial(2, exact=True) * factorial(2, exact=True))"
   ]
  },
  {
   "cell_type": "code",
   "execution_count": 20,
   "id": "6a4270fb-7aed-4623-8a15-8311841b94d3",
   "metadata": {},
   "outputs": [
    {
     "data": {
      "text/plain": [
       "0.11904761904761904"
      ]
     },
     "execution_count": 20,
     "metadata": {},
     "output_type": "execute_result"
    }
   ],
   "source": [
    "# Задача 1. В ящике 5 апельсинов и 4 яблока. Наудачу выбираются 3 фрукта. Какова\n",
    "# вероятность, что все три фрукта – апельсины?\n",
    "n = 5\n",
    "m = 3\n",
    "k = 9\n",
    "comb(n, m, exact=True, repetition=False) / comb(k, m, exact=True, repetition=False)"
   ]
  },
  {
   "cell_type": "code",
   "execution_count": 22,
   "id": "11535cbc-de2a-41d3-808f-08ed56b28e78",
   "metadata": {},
   "outputs": [
    {
     "data": {
      "text/plain": [
       "0.28"
      ]
     },
     "execution_count": 22,
     "metadata": {},
     "output_type": "execute_result"
    }
   ],
   "source": [
    "# Задача 2. Преподаватель предлагает каждому из трех студентов задумать любое число от\n",
    "# 1 до 10. Считая, что выбор каждым из студентов любого числа из заданных\n",
    "# равновозможен, найти вероятность того, что у кого-то из них задуманные числа совпадут.\n",
    "\n",
    "n = 10 ** 3\n",
    "m = 10 * 9 * 8\n",
    "1 - m/n"
   ]
  },
  {
   "cell_type": "code",
   "execution_count": 24,
   "id": "46f3018a-6426-4287-9419-bf12e0dd9d42",
   "metadata": {},
   "outputs": [
    {
     "name": "stdout",
     "output_type": "stream",
     "text": [
      "0.021168\n"
     ]
    }
   ],
   "source": [
    "# Задача 3. Найти вероятность того, что в 8-значном числе ровно 4 цифры совпадают, а\n",
    "# остальные различны.\n",
    "n = 10 ** 8\n",
    "a = comb(9, 4, exact=True, repetition=False)\n",
    "b = comb(8, 4, exact=True, repetition=False)\n",
    "c = factorial(4, exact=True)\n",
    "d = comb(10, 1, exact=True, repetition=False)\n",
    "p = a * b * c * d / n\n",
    "print(p)"
   ]
  },
  {
   "cell_type": "code",
   "execution_count": 28,
   "id": "e5e02e4a-359a-4dcc-a559-7da11fe4d274",
   "metadata": {},
   "outputs": [
    {
     "data": {
      "text/plain": [
       "0.8848"
      ]
     },
     "execution_count": 28,
     "metadata": {},
     "output_type": "execute_result"
    }
   ],
   "source": [
    "# Задача 4. Шесть клиентов случайным образом обращаются в 5 фирм. Найти вероятность\n",
    "# того, что хотя бы в одну фирму никто не обратится\n",
    "p = 1 - (5 * factorial(6, exact=True)/(factorial(2, exact=True)) )/ 5 ** 6\n",
    "p"
   ]
  },
  {
   "cell_type": "code",
   "execution_count": 31,
   "id": "31bab4b3-4c7c-4f45-9940-1fd4ca1bef16",
   "metadata": {},
   "outputs": [
    {
     "data": {
      "text/plain": [
       "0.5238095238095238"
      ]
     },
     "execution_count": 31,
     "metadata": {},
     "output_type": "execute_result"
    }
   ],
   "source": [
    "# Задача 1. В ящике 10 красных и 5 синих пуговиц. Вынимаются наудачу две пуговицы.\n",
    "# Какова вероятность, что пуговицы будут одноцветными?\n",
    "a = comb(10, 2, exact=True, repetition=False)\n",
    "b = comb(5, 2, exact=True, repetition=False)\n",
    "n = comb(15, 2, exact=True, repetition=False)\n",
    "p = (a + b) / n\n",
    "p"
   ]
  },
  {
   "cell_type": "code",
   "execution_count": 32,
   "id": "c8a4462d-eead-48e5-b1f8-b1e4241b537f",
   "metadata": {},
   "outputs": [],
   "source": [
    "# Задача 3. В семье – двое детей. Какова вероятность, что старший ребенок – мальчик, если\n",
    "#известно, что в семье есть дети обоего пола?\n",
    "p = 0.5"
   ]
  },
  {
   "cell_type": "code",
   "execution_count": 34,
   "id": "7b2eeae9-74aa-4396-bedc-ebc178bd1a92",
   "metadata": {},
   "outputs": [
    {
     "name": "stdout",
     "output_type": "stream",
     "text": [
      "0.5 0.77\n"
     ]
    }
   ],
   "source": [
    "# Задача 2. Среди сотрудников фирмы 28% знают английский язык, 30% – немецкий, 42% –\n",
    "# французский; английский и немецкий – 8%, английский и французский – 10%, немецкий и\n",
    "# французский – 5%, все три языка – 3%. Найти вероятность того, что случайно выбранный\n",
    "# сотрудник фирмы: а) знает английский или немецкий; б) знает английский, немецкий или\n",
    "# французский; в) не знает ни один из перечисленных языков\n",
    "\n",
    "p1 = 0.28 + 0.3 - 0.08\n",
    "p2 = 0.28 + 0.3 + 0.42 - 0.08 - 0.1 - 0.05\n",
    "print(round(p1, 1), p2)"
   ]
  },
  {
   "cell_type": "code",
   "execution_count": null,
   "id": "8e79a986-1ef2-4cd5-8506-ad510012a71b",
   "metadata": {},
   "outputs": [],
   "source": []
  }
 ],
 "metadata": {
  "kernelspec": {
   "display_name": "Python 3 (ipykernel)",
   "language": "python",
   "name": "python3"
  },
  "language_info": {
   "codemirror_mode": {
    "name": "ipython",
    "version": 3
   },
   "file_extension": ".py",
   "mimetype": "text/x-python",
   "name": "python",
   "nbconvert_exporter": "python",
   "pygments_lexer": "ipython3",
   "version": "3.12.7"
  }
 },
 "nbformat": 4,
 "nbformat_minor": 5
}
